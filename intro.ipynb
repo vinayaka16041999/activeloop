{
 "cells": [
  {
   "cell_type": "code",
   "execution_count": 10,
   "metadata": {},
   "outputs": [],
   "source": [
    "from langchain.llms import OpenAI\n",
    "from dotenv import load_dotenv\n",
    "import os"
   ]
  },
  {
   "cell_type": "code",
   "execution_count": 11,
   "metadata": {},
   "outputs": [
    {
     "data": {
      "text/plain": [
       "True"
      ]
     },
     "execution_count": 11,
     "metadata": {},
     "output_type": "execute_result"
    }
   ],
   "source": [
    "load_dotenv()"
   ]
  },
  {
   "cell_type": "code",
   "execution_count": 17,
   "metadata": {},
   "outputs": [
    {
     "name": "stdout",
     "output_type": "stream",
     "text": [
      "\n",
      "\n",
      "Monday:\n",
      "Warm-up: 5-10 minute jog\n",
      "Main workout:\n",
      "- 3 sets of 1-minute sprint intervals, followed by 1 minute of slow jog/walk\n",
      "- 3 sets of hill repeats (find a hill or incline to sprint up for 30 seconds, then walk or jog down for 30 seconds)\n",
      "Cool down: 5-10 minute jog\n",
      "\n",
      "Tuesday:\n",
      "Active Rest Day - Go for a hike, bike ride, or swim for at least 30 minutes to keep the body moving.\n",
      "\n",
      "Wednesday:\n",
      "Warm-up: 5-10 minute jog\n",
      "Main workout:\n",
      "- 3 sets of 5-minute steady paced runs\n",
      "- 3 sets of 1-minute high knees and butt kicks\n",
      "Cool down: 5-10 minute jog\n",
      "\n",
      "Thursday:\n",
      "Active Rest Day - Play a sport such as tennis, basketball, or soccer for at least 30 minutes.\n",
      "\n",
      "Friday:\n",
      "Warm-up: 5-10 minute jog\n",
      "Main workout:\n",
      "- 3 sets of 3-minute speed intervals (sprint for 30 seconds, jog for 30 seconds, walk for 30 seconds)\n",
      "- 3 sets of 1-minute mountain climbers or burpees\n",
      "Cool down: 5-10 minute jog\n",
      "\n",
      "Saturday:\n",
      "Active Rest\n"
     ]
    }
   ],
   "source": [
    "llm = OpenAI(model=\"gpt-3.5-turbo-instruct\", temperature=0.9)\n",
    "text = \"Suggest a personalized workout routine for someone looking to improve cardiovascular endurance and prefers outdoor activities.\"\n",
    "print(llm(text))"
   ]
  },
  {
   "cell_type": "code",
   "execution_count": null,
   "metadata": {},
   "outputs": [],
   "source": []
  }
 ],
 "metadata": {
  "kernelspec": {
   "display_name": "activeloop",
   "language": "python",
   "name": "python3"
  },
  "language_info": {
   "codemirror_mode": {
    "name": "ipython",
    "version": 3
   },
   "file_extension": ".py",
   "mimetype": "text/x-python",
   "name": "python",
   "nbconvert_exporter": "python",
   "pygments_lexer": "ipython3",
   "version": "3.13.2"
  }
 },
 "nbformat": 4,
 "nbformat_minor": 2
}
